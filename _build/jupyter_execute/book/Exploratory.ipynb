{
 "cells": [
  {
   "cell_type": "markdown",
   "id": "9d41d843",
   "metadata": {},
   "source": [
    "# Data Science Book\n",
    "\n",
    "## An example cell\n",
    "\n",
    "## Exploratory Data Analysis Checklist: A Case Study\n",
    "\n",
    "In this section we will run through an informal “checklist”\n",
    "of things to do when embarking on an exploratory data\n",
    "analysis. As a running example I will use a dataset on hourly\n",
    "ozone levels in the United States for the year 2014. The\n",
    "elements of the checklist are\n",
    "1. Formulate your question\n",
    "2. Read in your data\n",
    "3. Check the packaging\n",
    "4. Look at the top and the bottom of your data\n",
    "5. Check your “n”s\n",
    "6. Validate with at least one external data source\n",
    "7. Make a plot\n",
    "8. Try the easy solution first\n",
    "9. Follow up"
   ]
  }
 ],
 "metadata": {
  "jupytext": {
   "formats": "md:myst",
   "text_representation": {
    "extension": ".md",
    "format_name": "myst",
    "format_version": 0.13,
    "jupytext_version": "1.11.5"
   }
  },
  "kernelspec": {
   "display_name": "Python 3",
   "language": "python",
   "name": "python3"
  },
  "language_info": {
   "codemirror_mode": {
    "name": "ipython",
    "version": 3
   },
   "file_extension": ".py",
   "mimetype": "text/x-python",
   "name": "python",
   "nbconvert_exporter": "python",
   "pygments_lexer": "ipython3",
   "version": "3.11.2"
  },
  "source_map": [
   13
  ]
 },
 "nbformat": 4,
 "nbformat_minor": 5
}
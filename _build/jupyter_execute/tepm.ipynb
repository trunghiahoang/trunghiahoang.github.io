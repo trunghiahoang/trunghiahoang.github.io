{
 "cells": [
  {
   "cell_type": "markdown",
   "id": "7a78f803",
   "metadata": {},
   "source": [
    "# Notebooks with MyST Markdown\n",
    "\n",
    "## Number Theory\n",
    "What are numbers? I promise to not be too philosophical in this book, but are numbers not a construct we have defined? Why do we have the digits 0 through 9, and not have more digits than that? Why do we have fractions and decimals and not just whole numbers? This area of math where we muse about numbers and why we designed them a certain way is known as number theory.\n",
    "Number theory goes all the way back to ancient times, where mathematicians study different number systems and why we have accepted them the way we do today. Here are different number systems that you may recognize:\n",
    "### Natural Numbers\n",
    "These are the numbers 1, 2, 3, 4, 5... and so on. Only positive numbers are included here, and are the earliest known system. Natural numbers are so ancient cavemen scratched tally marks on bones and cave walls to keep records.\n",
    "\n",
    "### Whole Numbers\n",
    "Adding to natural numbers, the concept of “0” was later accepted and we call these “whole numbers.” The Babylonians also developed the useful idea for place-holding notation for empty “columns” on numbers greater than 9, such as “10”, “1000”, or “1090.” Those zeros indicate no value occupying that column.\n",
    "THIS IS NOT A FULL MATH CRASH COURSE!\n",
    "This is by no means a comprehensive review of high school and college math. If you want that, a great book to check out is No Bullshit Guide to Math and Physics by Ivan Savov. The first few chapters contain the best crash course on high school and college math I have ever seen. The book Mathematics 1001 by Dr. Richard Elwes has some great content as well, and in bite-sized explanations.\n",
    "\n",
    "### Integers\n",
    "Integers include positive and negative whole numbers as well as 0. We may take them for granted, but ancient mathematicians were deeply distrusting of the idea of negative numbers. But when you subtract 5 from 3, you get -2. This is useful especially when it comes to finances where we measure profits and losses. In 628 AD, an Indian mathematician named Brahmagupta showed why negative numbers were necessary for arithmetic to progress, and therefore integers became accepted.\n",
    "\n",
    "### Rational Numbers\n",
    "Any number that you can express as a fraction, such as , is a rational\n",
    "number. This includes all finite decimals and integers since they can be expressed as fractions too, such as and respectively.\n",
    "They are called rational because they are ratios. Rational numbers were quickly deemed necessary bececause because time, resources, and other quantities could not always be measured in discrete units. Milk does not always come in gallons. We may have to measure it as parts of a gallon. If I run for 12 minutes, I cannot be forced to measure in whole miles when in actuality I ran of a mile.\n",
    "\n",
    "### Irrational Numbers\n",
    "Irrational numbers cannot be expressed as a fraction. This includes the famous Pi , square roots of certain numbers like , and Euler’s number which we will learn about later. These numbers have an infinite number of decimal digits, such as\n",
    "\n",
    "$$\n",
    "\\Pi = 3.14159265359\n",
    "$$\n",
    "\n",
    "There is an interesting history behind irrational numbers. The Greek mathematician Pythagoras believed all numbers are rational. He believed this so fervently, he made a religion that prayed to the number 10. \"Bless us, divine number, thou who generated gods and men!\" he and his followers would pray (why “10” was so special, I do not know).\n",
    "\n",
    "### Real Numbers\n",
    "Real numbers include rational as well as irrational numbers. In practicality, when you are doing any data science work you can treat any decimals you work with as real numbers.\n",
    "\n",
    "### Complex and Imaginary Numbers\n",
    "You encounter this number type when you take the square root of a negative number. While imaginary and complex numbers have relevance in certain types of problems, we will mostly steer clear from them for our purposes\n",
    "\n",
    "\n",
    "## Order of Operations\n",
    "Hopefully you are familiar with order of operations which is the order you solve each part of a mathematical expression. As a brief refresher, recall you evaluate components in parantheses, followed by exponents, then multiplication, division, addition, and subtraction. You can remember the\n",
    "order of operations by the mnemonic device PEMDAS (Please Excuse My Dear Aunt Sally) which corresponds to the ordering paranthesis, exponents, multiplication, division, addition, and subtraction.\n",
    "Take for example this expression:\n",
    "\n",
    "$$\n",
    "2*\\frac{(3+5)^2}{x - y} +1\n",
    "$$"
   ]
  }
 ],
 "metadata": {
  "jupytext": {
   "formats": "md:myst",
   "text_representation": {
    "extension": ".md",
    "format_name": "myst",
    "format_version": 0.13,
    "jupytext_version": "1.11.5"
   }
  },
  "kernelspec": {
   "display_name": "Python 3",
   "language": "python",
   "name": "python3"
  },
  "language_info": {
   "codemirror_mode": {
    "name": "ipython",
    "version": 3
   },
   "file_extension": ".py",
   "mimetype": "text/x-python",
   "name": "python",
   "nbconvert_exporter": "python",
   "pygments_lexer": "ipython3",
   "version": "3.11.2"
  },
  "source_map": [
   13
  ]
 },
 "nbformat": 4,
 "nbformat_minor": 5
}